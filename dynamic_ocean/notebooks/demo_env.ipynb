{
 "cells": [
  {
   "cell_type": "code",
   "execution_count": null,
   "metadata": {
    "vscode": {
     "languageId": "plaintext"
    }
   },
   "outputs": [],
   "source": [
    "from utils.data_loader import generate_random_grid\n",
    "from envs.cost_functions import aggregate_cost\n",
    "from utils.pathfinding import astar_grid\n",
    "from utils.visualization import plot_cost_map\n",
    "from envs.dynamic_ocean_env import DynamicOceanEnv\n",
    "\n",
    "# 1. make a grid\n",
    "channels = generate_random_grid(C=3, H=64, W=64, obstacle_prob=0.03, seed=42)\n",
    "\n",
    "# 2. aggregate\n",
    "weights = [0.3, 0.3, 1.0]\n",
    "cost_map = aggregate_cost(channels, weights, smooth_sigma=1.0)\n",
    "\n",
    "# 3. path\n",
    "start = (0, 0)\n",
    "goal = (63, 63)\n",
    "path, total_cost = astar_grid(cost_map, start, goal)\n",
    "\n",
    "# 4. viz\n",
    "plot_cost_map(cost_map, path=path, start=start, goal=goal)\n",
    "\n",
    "# 5. run env (simulator)\n",
    "env = DynamicOceanEnv(cost_map, start, goal, patch_size=3)\n",
    "obs, info = env.reset()\n",
    "done = False\n",
    "while not done:\n",
    "    # simple greedy step using center patch (example)\n",
    "    action = 0  # stay — replace with agent logic\n",
    "    obs, r, done, truncated, info = env.step(action)\n",
    "print(\"Done\", info)\n"
   ]
  }
 ],
 "metadata": {
  "kernelspec": {
   "display_name": "Python 3",
   "language": "python",
   "name": "python3"
  },
  "language_info": {
   "codemirror_mode": {
    "name": "ipython",
    "version": 3
   },
   "file_extension": ".py",
   "mimetype": "text/x-python",
   "name": "python",
   "nbconvert_exporter": "python",
   "pygments_lexer": "ipython3",
   "version": "3.8.0"
  }
 },
 "nbformat": 4,
 "nbformat_minor": 4
}
